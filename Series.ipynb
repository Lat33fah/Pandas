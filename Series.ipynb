{
 "cells": [
  {
   "cell_type": "markdown",
   "id": "f108116f",
   "metadata": {},
   "source": [
    "Series"
   ]
  },
  {
   "cell_type": "markdown",
   "id": "9238ab58",
   "metadata": {},
   "source": [
    "Series is very similar to the numpy array. The only thing that differenentiate them is the that series  can be indexed using a label instead of just a number location as in numpy arrays"
   ]
  },
  {
   "cell_type": "code",
   "execution_count": 3,
   "id": "a95eaa95",
   "metadata": {},
   "outputs": [],
   "source": [
    "import numpy as np\n",
    "import pandas as pd"
   ]
  },
  {
   "cell_type": "markdown",
   "id": "4793467a",
   "metadata": {},
   "source": [
    " Creating series from a python list"
   ]
  },
  {
   "cell_type": "code",
   "execution_count": 4,
   "id": "4af0a140",
   "metadata": {},
   "outputs": [],
   "source": [
    "myindex = ['USA','Canada', 'Mexico']"
   ]
  },
  {
   "cell_type": "code",
   "execution_count": 5,
   "id": "66e04882",
   "metadata": {},
   "outputs": [],
   "source": [
    "mydata = [1778,1233, 2345]"
   ]
  },
  {
   "cell_type": "code",
   "execution_count": 6,
   "id": "de9b75f6",
   "metadata": {},
   "outputs": [],
   "source": [
    "myseries = pd.Series(data=mydata)"
   ]
  },
  {
   "cell_type": "code",
   "execution_count": 7,
   "id": "e4f80e78",
   "metadata": {},
   "outputs": [
    {
     "data": {
      "text/plain": [
       "0    1778\n",
       "1    1233\n",
       "2    2345\n",
       "dtype: int64"
      ]
     },
     "execution_count": 7,
     "metadata": {},
     "output_type": "execute_result"
    }
   ],
   "source": [
    "myseries"
   ]
  },
  {
   "cell_type": "code",
   "execution_count": 8,
   "id": "d1bb1671",
   "metadata": {},
   "outputs": [],
   "source": [
    "myseries = pd.Series(mydata, myindex)"
   ]
  },
  {
   "cell_type": "code",
   "execution_count": 10,
   "id": "89276bc1",
   "metadata": {},
   "outputs": [
    {
     "data": {
      "text/plain": [
       "USA       1778\n",
       "Canada    1233\n",
       "Mexico    2345\n",
       "dtype: int64"
      ]
     },
     "execution_count": 10,
     "metadata": {},
     "output_type": "execute_result"
    }
   ],
   "source": [
    "myseries"
   ]
  },
  {
   "cell_type": "code",
   "execution_count": 23,
   "id": "b1621dc3",
   "metadata": {},
   "outputs": [],
   "source": [
    "data = np.random.randint(0,101,4)"
   ]
  },
  {
   "cell_type": "code",
   "execution_count": 24,
   "id": "ebbefa09",
   "metadata": {},
   "outputs": [],
   "source": [
    "names = ['lateefah', 'claire','aname', 'anothername']"
   ]
  },
  {
   "cell_type": "code",
   "execution_count": 25,
   "id": "7b5e06ad",
   "metadata": {},
   "outputs": [],
   "source": [
    "ages = pd.Series(data,names)"
   ]
  },
  {
   "cell_type": "code",
   "execution_count": 26,
   "id": "ef958fe1",
   "metadata": {},
   "outputs": [
    {
     "data": {
      "text/plain": [
       "lateefah        0\n",
       "claire         33\n",
       "aname          89\n",
       "anothername    40\n",
       "dtype: int32"
      ]
     },
     "execution_count": 26,
     "metadata": {},
     "output_type": "execute_result"
    }
   ],
   "source": [
    "ages"
   ]
  },
  {
   "cell_type": "markdown",
   "id": "9acec281",
   "metadata": {},
   "source": [
    "Creating a series from a dictionary"
   ]
  },
  {
   "cell_type": "code",
   "execution_count": 27,
   "id": "9de221db",
   "metadata": {},
   "outputs": [],
   "source": [
    "ages = {\"claire\": 5, \"frank\":20,\"summayah\":13}"
   ]
  },
  {
   "cell_type": "code",
   "execution_count": 28,
   "id": "e1437147",
   "metadata": {},
   "outputs": [
    {
     "data": {
      "text/plain": [
       "claire       5\n",
       "frank       20\n",
       "summayah    13\n",
       "dtype: int64"
      ]
     },
     "execution_count": 28,
     "metadata": {},
     "output_type": "execute_result"
    }
   ],
   "source": [
    "pd.Series(ages)"
   ]
  },
  {
   "cell_type": "code",
   "execution_count": 29,
   "id": "9cb526d6",
   "metadata": {},
   "outputs": [],
   "source": [
    "# Imaginary Sales Data for 1st and 2nd Quarters for Global Company\n",
    "q1 = {'Japan': 80, 'China': 450, 'India': 200, 'USA': 250}\n",
    "q2 = {'Brazil': 100,'China': 500, 'India': 210,'USA': 260}"
   ]
  },
  {
   "cell_type": "code",
   "execution_count": 30,
   "id": "07865c87",
   "metadata": {},
   "outputs": [],
   "source": [
    "sales_q1 = pd.Series(q1)"
   ]
  },
  {
   "cell_type": "code",
   "execution_count": 31,
   "id": "290df091",
   "metadata": {},
   "outputs": [],
   "source": [
    "sales_q2 = pd.Series(q2)"
   ]
  },
  {
   "cell_type": "code",
   "execution_count": 32,
   "id": "56c6b949",
   "metadata": {},
   "outputs": [
    {
     "data": {
      "text/plain": [
       "Japan     80\n",
       "China    450\n",
       "India    200\n",
       "USA      250\n",
       "dtype: int64"
      ]
     },
     "execution_count": 32,
     "metadata": {},
     "output_type": "execute_result"
    }
   ],
   "source": [
    "sales_q1"
   ]
  },
  {
   "cell_type": "code",
   "execution_count": 33,
   "id": "68c2df14",
   "metadata": {},
   "outputs": [
    {
     "data": {
      "text/plain": [
       "Brazil    100\n",
       "China     500\n",
       "India     210\n",
       "USA       260\n",
       "dtype: int64"
      ]
     },
     "execution_count": 33,
     "metadata": {},
     "output_type": "execute_result"
    }
   ],
   "source": [
    "sales_q2"
   ]
  },
  {
   "cell_type": "code",
   "execution_count": 34,
   "id": "d9eb7be7",
   "metadata": {},
   "outputs": [
    {
     "data": {
      "text/plain": [
       "80"
      ]
     },
     "execution_count": 34,
     "metadata": {},
     "output_type": "execute_result"
    }
   ],
   "source": [
    "sales_q1['Japan']"
   ]
  },
  {
   "cell_type": "code",
   "execution_count": 36,
   "id": "5c2b1003",
   "metadata": {},
   "outputs": [
    {
     "data": {
      "text/plain": [
       "Index(['Japan', 'China', 'India', 'USA'], dtype='object')"
      ]
     },
     "execution_count": 36,
     "metadata": {},
     "output_type": "execute_result"
    }
   ],
   "source": [
    "sales_q1.keys()"
   ]
  },
  {
   "cell_type": "code",
   "execution_count": 37,
   "id": "18a8e9f9",
   "metadata": {},
   "outputs": [
    {
     "data": {
      "text/plain": [
       "80"
      ]
     },
     "execution_count": 37,
     "metadata": {},
     "output_type": "execute_result"
    }
   ],
   "source": [
    "sales_q1[0]"
   ]
  },
  {
   "cell_type": "markdown",
   "id": "a3712793",
   "metadata": {},
   "source": [
    "operations"
   ]
  },
  {
   "cell_type": "code",
   "execution_count": 38,
   "id": "a05fc592",
   "metadata": {},
   "outputs": [
    {
     "data": {
      "text/plain": [
       "Japan    160\n",
       "China    900\n",
       "India    400\n",
       "USA      500\n",
       "dtype: int64"
      ]
     },
     "execution_count": 38,
     "metadata": {},
     "output_type": "execute_result"
    }
   ],
   "source": [
    "sales_q1 * 2"
   ]
  },
  {
   "cell_type": "code",
   "execution_count": 39,
   "id": "e65e591c",
   "metadata": {},
   "outputs": [
    {
     "data": {
      "text/plain": [
       "Brazil    1.0\n",
       "China     5.0\n",
       "India     2.1\n",
       "USA       2.6\n",
       "dtype: float64"
      ]
     },
     "execution_count": 39,
     "metadata": {},
     "output_type": "execute_result"
    }
   ],
   "source": [
    "sales_q2 / 100"
   ]
  },
  {
   "cell_type": "markdown",
   "id": "753bcd93",
   "metadata": {},
   "source": [
    "Operations between series "
   ]
  },
  {
   "cell_type": "code",
   "execution_count": 41,
   "id": "e81e86a5",
   "metadata": {},
   "outputs": [
    {
     "data": {
      "text/plain": [
       "Brazil      NaN\n",
       "China     950.0\n",
       "India     410.0\n",
       "Japan       NaN\n",
       "USA       510.0\n",
       "dtype: float64"
      ]
     },
     "execution_count": 41,
     "metadata": {},
     "output_type": "execute_result"
    }
   ],
   "source": [
    "sales_q1 + sales_q2"
   ]
  },
  {
   "cell_type": "code",
   "execution_count": 42,
   "id": "257005cb",
   "metadata": {},
   "outputs": [
    {
     "data": {
      "text/plain": [
       "Brazil    100.0\n",
       "China     950.0\n",
       "India     410.0\n",
       "Japan      80.0\n",
       "USA       510.0\n",
       "dtype: float64"
      ]
     },
     "execution_count": 42,
     "metadata": {},
     "output_type": "execute_result"
    }
   ],
   "source": [
    "sales_q1.add(sales_q2, fill_value=0)"
   ]
  },
  {
   "cell_type": "markdown",
   "id": "530b03e0",
   "metadata": {},
   "source": []
  }
 ],
 "metadata": {
  "kernelspec": {
   "display_name": "Python 3",
   "language": "python",
   "name": "python3"
  },
  "language_info": {
   "codemirror_mode": {
    "name": "ipython",
    "version": 3
   },
   "file_extension": ".py",
   "mimetype": "text/x-python",
   "name": "python",
   "nbconvert_exporter": "python",
   "pygments_lexer": "ipython3",
   "version": "3.8.8"
  }
 },
 "nbformat": 4,
 "nbformat_minor": 5
}
